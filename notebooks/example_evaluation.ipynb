{
 "cells": [
  {
   "cell_type": "markdown",
   "metadata": {},
   "source": [
    "# Example training and evaluation of LightGBM model\n",
    "\n",
    "Download the CESNET-QUIC22 dataset if it is not already downloaded, enable logging, and set configuration."
   ]
  },
  {
   "cell_type": "code",
   "execution_count": 1,
   "metadata": {},
   "outputs": [
    {
     "name": "stderr",
     "output_type": "stream",
     "text": [
      "[2023-09-27 15:00:30,326][cesnet_datazoo.pytables_data.indices_setup][INFO] - Processing train indices\n",
      "[2023-09-27 15:00:30,596][cesnet_datazoo.pytables_data.pytables_dataset][INFO] - Reading app column for train table /flows/D20221031 took 0.23 seconds\n",
      "[2023-09-27 15:00:30,828][cesnet_datazoo.pytables_data.pytables_dataset][INFO] - Reading app column for train table /flows/D20221101 took 0.23 seconds\n",
      "[2023-09-27 15:00:31,291][cesnet_datazoo.pytables_data.pytables_dataset][INFO] - Reading app column for train table /flows/D20221102 took 0.46 seconds\n",
      "[2023-09-27 15:00:31,751][cesnet_datazoo.pytables_data.pytables_dataset][INFO] - Reading app column for train table /flows/D20221103 took 0.46 seconds\n",
      "[2023-09-27 15:00:32,114][cesnet_datazoo.pytables_data.pytables_dataset][INFO] - Reading app column for train table /flows/D20221104 took 0.36 seconds\n",
      "[2023-09-27 15:00:32,273][cesnet_datazoo.pytables_data.pytables_dataset][INFO] - Reading app column for train table /flows/D20221105 took 0.16 seconds\n",
      "[2023-09-27 15:00:32,465][cesnet_datazoo.pytables_data.pytables_dataset][INFO] - Reading app column for train table /flows/D20221106 took 0.19 seconds\n",
      "[2023-09-27 15:00:32,484][cesnet_datazoo.pytables_data.pytables_dataset][INFO] - Found applications with less than 100 train samples: ['uber']. Disabling these applications\n",
      "[2023-09-27 15:00:32,494][cesnet_datazoo.pytables_data.pytables_dataset][INFO] - Selected 101 known applications and 0 unknown applications\n",
      "[2023-09-27 15:00:33,969][cesnet_datazoo.pytables_data.pytables_dataset][INFO] - Processing train indices took 1.50 seconds\n",
      "[2023-09-27 15:00:34,010][cesnet_datazoo.pytables_data.indices_setup][INFO] - Processing test indices\n",
      "[2023-09-27 15:00:34,563][cesnet_datazoo.pytables_data.pytables_dataset][INFO] - Reading app column for test table /flows/D20221107 took 0.52 seconds\n",
      "[2023-09-27 15:00:35,093][cesnet_datazoo.pytables_data.pytables_dataset][INFO] - Reading app column for test table /flows/D20221108 took 0.53 seconds\n",
      "[2023-09-27 15:00:35,613][cesnet_datazoo.pytables_data.pytables_dataset][INFO] - Reading app column for test table /flows/D20221109 took 0.52 seconds\n",
      "[2023-09-27 15:00:36,090][cesnet_datazoo.pytables_data.pytables_dataset][INFO] - Reading app column for test table /flows/D20221110 took 0.48 seconds\n",
      "[2023-09-27 15:00:36,437][cesnet_datazoo.pytables_data.pytables_dataset][INFO] - Reading app column for test table /flows/D20221111 took 0.35 seconds\n",
      "[2023-09-27 15:00:36,594][cesnet_datazoo.pytables_data.pytables_dataset][INFO] - Reading app column for test table /flows/D20221112 took 0.16 seconds\n",
      "[2023-09-27 15:00:36,787][cesnet_datazoo.pytables_data.pytables_dataset][INFO] - Reading app column for test table /flows/D20221113 took 0.19 seconds\n",
      "[2023-09-27 15:00:38,768][cesnet_datazoo.pytables_data.pytables_dataset][INFO] - Processing test indices took 1.98 seconds\n",
      "[2023-09-27 15:00:42,625][cesnet_datazoo.pytables_data.pytables_dataset][INFO] - Reading data and fitting scalers took 3.10 seconds\n"
     ]
    }
   ],
   "source": [
    "import os\n",
    "import logging\n",
    "import sys\n",
    "module_path = os.path.abspath(os.path.join(\"..\"))\n",
    "if module_path not in sys.path:\n",
    "    sys.path.append(module_path)\n",
    "\n",
    "from cesnet_datazoo.datasets import CESNET_QUIC22\n",
    "from cesnet_datazoo.config import DatasetConfig, ValidationApproach, ScalerEnum, AppSelection\n",
    "\n",
    "logging.basicConfig(\n",
    "    level=logging.INFO,\n",
    "    format=\"[%(asctime)s][%(name)s][%(levelname)s] - %(message)s\")\n",
    "\n",
    "dataset = CESNET_QUIC22(data_root=\"data/CESNET-QUIC22/\", size=\"XS\")\n",
    "common_params = {\n",
    "    \"dataset\": dataset,\n",
    "    \"apps_selection\": AppSelection.ALL_KNOWN,\n",
    "    \"train_period\": \"W-2022-44\",\n",
    "    \"val_approach\": ValidationApproach.SPLIT_FROM_TRAIN,\n",
    "    \"train_val_split_fraction\": 0.2,\n",
    "    \"flowstats_scaler\": ScalerEnum.NO_SCALER,\n",
    "    \"psizes_scaler\": ScalerEnum.NO_SCALER,\n",
    "    \"ipt_scaler\": ScalerEnum.NO_SCALER,\n",
    "}\n",
    "dataset_config = DatasetConfig(**common_params)\n",
    "dataset.set_dataset_config_and_initialize(dataset_config)"
   ]
  },
  {
   "cell_type": "markdown",
   "metadata": {},
   "source": [
    "Load training and validation dataframes and create LightGBM datasets."
   ]
  },
  {
   "cell_type": "code",
   "execution_count": 3,
   "metadata": {},
   "outputs": [
    {
     "name": "stdout",
     "output_type": "stream",
     "text": [
      "Loading data from dataloader\n"
     ]
    },
    {
     "name": "stderr",
     "output_type": "stream",
     "text": [
      "100%|██████████| 8162/8162 [00:04<00:00, 1648.05it/s]\n"
     ]
    },
    {
     "name": "stdout",
     "output_type": "stream",
     "text": [
      "Loading data from dataloader\n"
     ]
    },
    {
     "name": "stderr",
     "output_type": "stream",
     "text": [
      "100%|██████████| 192/192 [00:01<00:00, 149.71it/s]\n"
     ]
    },
    {
     "name": "stdout",
     "output_type": "stream",
     "text": [
      "Loaded 1566944 train samples\n",
      "Loaded 391736 validation samples\n"
     ]
    }
   ],
   "source": [
    "import lightgbm as lgb\n",
    "from cesnet_datazoo.constants import APP_COLUMN\n",
    "\n",
    "feature_names = dataset_config.get_feature_names(flatten_ppi=True)\n",
    "train_df = dataset.get_train_df(flatten_ppi=True)\n",
    "val_df = dataset.get_val_df(flatten_ppi=True)\n",
    "train_labels = train_df.pop(APP_COLUMN)\n",
    "val_labels = val_df.pop(APP_COLUMN)\n",
    "\n",
    "lgb_train_dataset = lgb.Dataset(data=train_df, label=train_labels, feature_name=feature_names)\n",
    "lgb_val_dataset = lgb.Dataset(data=val_df, label=val_labels, feature_name=feature_names)\n",
    "\n",
    "print(f\"Loaded {len(train_df)} train samples\")\n",
    "print(f\"Loaded {len(val_df)} validation samples\")"
   ]
  },
  {
   "cell_type": "markdown",
   "metadata": {},
   "source": [
    "Train the LightGBM model for 20 iterations."
   ]
  },
  {
   "cell_type": "code",
   "execution_count": 4,
   "metadata": {},
   "outputs": [
    {
     "name": "stdout",
     "output_type": "stream",
     "text": [
      "[1]\tvalid_0's multi_error: 0.228133\n",
      "[2]\tvalid_0's multi_error: 0.193135\n",
      "[3]\tvalid_0's multi_error: 0.174097\n",
      "[4]\tvalid_0's multi_error: 0.162056\n",
      "[5]\tvalid_0's multi_error: 0.152087\n",
      "[6]\tvalid_0's multi_error: 0.144357\n",
      "[7]\tvalid_0's multi_error: 0.138027\n",
      "[8]\tvalid_0's multi_error: 0.132893\n",
      "[9]\tvalid_0's multi_error: 0.128587\n",
      "[10]\tvalid_0's multi_error: 0.124962\n",
      "[11]\tvalid_0's multi_error: 0.121845\n",
      "[12]\tvalid_0's multi_error: 0.118782\n",
      "[13]\tvalid_0's multi_error: 0.115889\n",
      "[14]\tvalid_0's multi_error: 0.113615\n",
      "[15]\tvalid_0's multi_error: 0.111396\n",
      "[16]\tvalid_0's multi_error: 0.109313\n",
      "[17]\tvalid_0's multi_error: 0.107475\n",
      "[18]\tvalid_0's multi_error: 0.105816\n",
      "[19]\tvalid_0's multi_error: 0.10406\n",
      "[20]\tvalid_0's multi_error: 0.102602\n",
      "The best validation score is 0.103\n"
     ]
    }
   ],
   "source": [
    "lgb_params = {\n",
    "    \"task\": \"train\",\n",
    "    \"objective\": \"multiclass\",\n",
    "    \"num_class\": dataset.class_info.get_num_classes(),\n",
    "    \"metric\": \"multi_error\",\n",
    "    \"num_leaves\": 320,\n",
    "    \"min_data_in_leaf\": 20,\n",
    "    \"feature_fraction\": 0.8,\n",
    "    \"lambda_l2\": 4,\n",
    "    \"verbose\": -1,\n",
    "}\n",
    "\n",
    "validation_metrics = {}\n",
    "lgb_model = lgb.train(\n",
    "    params=lgb_params,\n",
    "    num_boost_round=20,\n",
    "    train_set=lgb_train_dataset,\n",
    "    valid_sets=[lgb_val_dataset],\n",
    "    callbacks=[lgb.log_evaluation()]\n",
    ")\n",
    "best_score = lgb_model.best_score[\"valid_0\"][\"multi_error\"]\n",
    "print(f\"The best validation score is {best_score:.3f}\")"
   ]
  },
  {
   "cell_type": "markdown",
   "metadata": {},
   "source": [
    "## Per-week evaluation\n",
    "\n",
    "Training of the model was done on samples of the first (44th week of 2022) week of CESNET-QUIC22. Now, let's evaluate the model on the following three weeks (45th, 46th, and 47th).\n",
    "\n",
    "For each week:\n",
    "\n",
    "1. Create ``DatasetConfig`` and set the week as ``test_period``\n",
    "2. Load test dataframe\n",
    "3. Predict applications with the trained LightGBM model\n",
    "4. Compute classification accuracy"
   ]
  },
  {
   "cell_type": "code",
   "execution_count": 6,
   "metadata": {},
   "outputs": [
    {
     "name": "stdout",
     "output_type": "stream",
     "text": [
      "\n",
      "Testing on period W-2022-45\n",
      "Loading data from dataloader\n"
     ]
    },
    {
     "name": "stderr",
     "output_type": "stream",
     "text": [
      "100%|██████████| 1247/1247 [00:13<00:00, 89.53it/s] \n"
     ]
    },
    {
     "name": "stdout",
     "output_type": "stream",
     "text": [
      "Loaded 2551901 test samples\n",
      "Classification accuracy for W-2022-45 is 0.820\n",
      "\n",
      "Testing on period W-2022-46\n",
      "Loading data from dataloader\n"
     ]
    },
    {
     "name": "stderr",
     "output_type": "stream",
     "text": [
      "100%|██████████| 985/985 [00:11<00:00, 85.95it/s] \n"
     ]
    },
    {
     "name": "stdout",
     "output_type": "stream",
     "text": [
      "Loaded 2016733 test samples\n",
      "Classification accuracy for W-2022-46 is 0.735\n",
      "\n",
      "Testing on period W-2022-47\n",
      "Loading data from dataloader\n"
     ]
    },
    {
     "name": "stderr",
     "output_type": "stream",
     "text": [
      "100%|██████████| 1289/1289 [00:14<00:00, 90.48it/s] \n"
     ]
    },
    {
     "name": "stdout",
     "output_type": "stream",
     "text": [
      "Loaded 2639441 test samples\n",
      "Classification accuracy for W-2022-47 is 0.725\n"
     ]
    },
    {
     "data": {
      "image/png": "[encoded data removed]",
      "text/plain": [
       "<Figure size 640x480 with 1 Axes>"
      ]
     },
     "metadata": {},
     "output_type": "display_data"
    }
   ],
   "source": [
    "from sklearn.metrics import accuracy_score\n",
    "import seaborn\n",
    "\n",
    "test_periods = [\"W-2022-45\", \"W-2022-46\", \"W-2022-47\"]\n",
    "per_week_acc = []\n",
    "for period in test_periods:\n",
    "    print(f\"\\nTesting on period {period}\")\n",
    "    dataset_config = DatasetConfig(**common_params, test_period=period)\n",
    "    dataset.set_dataset_config_and_initialize(dataset_config)\n",
    "    test_df = dataset.get_test_df(flatten_ppi=True)\n",
    "    print(f\"Loaded {len(test_df)} test samples\")\n",
    "    test_labels = test_df.pop(APP_COLUMN)\n",
    "    preds = lgb_model.predict(test_df).argmax(axis=1)\n",
    "    acc = accuracy_score(test_labels, preds)\n",
    "    per_week_acc.append(acc)\n",
    "    print(f\"Classification accuracy for {period} is {acc:.3f}\")\n",
    "\n",
    "seaborn.barplot(y=per_week_acc, x=test_periods).set(title=\"Per-week performance\");\n"
   ]
  },
  {
   "cell_type": "markdown",
   "metadata": {},
   "source": [
    "## Per-day evaluation\n",
    "Per-week evaluation might be too coarse-grained. Compute per-day performance. The big performance drop is related to a change of Google certificate and is discussed more in the *Encrypted traffic classification: the QUIC case* paper."
   ]
  },
  {
   "cell_type": "code",
   "execution_count": null,
   "metadata": {},
   "outputs": [],
   "source": [
    "test_dates = [\"20221107\", \"20221108\", \"20221109\", \"20221110\", \"20221111\", \"20221112\", \"20221113\",\n",
    "              \"20221114\", \"20221115\", \"20221116\", \"20221117\", \"20221118\", \"20221119\", \"20221120\",\n",
    "              \"20221121\", \"20221122\", \"20221123\", \"20221124\", \"20221125\", \"20221126\", \"20221127\"]\n",
    "per_date_acc = []\n",
    "for date in test_dates:\n",
    "    dataset_config = DatasetConfig(**common_params, test_period=f\"D-{date}\", test_dates=[date])\n",
    "    dataset.set_dataset_config_and_initialize(dataset_config)\n",
    "    test_df = dataset.get_test_df(flatten_ppi=True)\n",
    "    test_labels = test_df.pop(APP_COLUMN)\n",
    "    preds = lgb_model.predict(test_df).argmax(axis=1)\n",
    "    acc = accuracy_score(test_labels, preds)\n",
    "    per_date_acc.append(acc)"
   ]
  },
  {
   "cell_type": "code",
   "execution_count": 19,
   "metadata": {},
   "outputs": [
    {
     "data": {
      "image/png": "[encoded data removed]",
      "text/plain": [
       "<Figure size 640x480 with 1 Axes>"
      ]
     },
     "metadata": {},
     "output_type": "display_data"
    }
   ],
   "source": [
    "x_labels = list(map(lambda x: f\"{x[:4]}-{x[4:6]}-{x[6:]}\", test_dates))\n",
    "fig = seaborn.lineplot(x=range(len(per_date_acc)), y=per_date_acc)\n",
    "fig.set_xticks(range(len(per_date_acc)))\n",
    "fig.set_xticklabels(x_labels, rotation=90)\n",
    "fig.set(title=\"Per-day performance\");"
   ]
  }
 ],
 "metadata": {
  "kernelspec": {
   "display_name": ".venv",
   "language": "python",
   "name": "python3"
  },
  "language_info": {
   "codemirror_mode": {
    "name": "ipython",
    "version": 3
   },
   "file_extension": ".py",
   "mimetype": "text/x-python",
   "name": "python",
   "nbconvert_exporter": "python",
   "pygments_lexer": "ipython3",
   "version": "3.10.9"
  },
  "orig_nbformat": 4
 },
 "nbformat": 4,
 "nbformat_minor": 2
}
